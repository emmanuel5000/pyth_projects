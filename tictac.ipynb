{
 "cells": [
  {
   "cell_type": "code",
   "execution_count": 10,
   "metadata": {},
   "outputs": [
    {
     "name": "stdout",
     "output_type": "stream",
     "text": [
      "0\n",
      "1\n",
      "2\n",
      "3\n",
      "4\n"
     ]
    }
   ],
   "source": [
    "x = 5\n",
    "i = 0\n",
    "while i < x:\n",
    "    print(i)\n",
    "    i=i+1"
   ]
  },
  {
   "cell_type": "code",
   "execution_count": 1,
   "metadata": {},
   "outputs": [],
   "source": [
    "import string"
   ]
  },
  {
   "cell_type": "code",
   "execution_count": 2,
   "metadata": {},
   "outputs": [
    {
     "data": {
      "text/plain": [
       "'abcdefghijklmnopqrstuvwxyz'"
      ]
     },
     "execution_count": 2,
     "metadata": {},
     "output_type": "execute_result"
    }
   ],
   "source": [
    "string.ascii_lowercase"
   ]
  },
  {
   "cell_type": "code",
   "execution_count": 10,
   "metadata": {},
   "outputs": [],
   "source": [
    "s=[1,1,1,1,12,2,2,2,2,3,3,3,3,3,4,4,4,4,5,5,5,5,55,5]\n",
    "st = 'Hello Mr. Rogers, how are you this fine Tuesday?'"
   ]
  },
  {
   "cell_type": "code",
   "execution_count": 16,
   "metadata": {},
   "outputs": [],
   "source": [
    "ll=[]\n",
    "u=0\n",
    "l=0\n",
    "for c in st:\n",
    "    if c.isupper():\n",
    "        u+=1\n",
    "    elif c.islower():\n",
    "            l+=1\n",
    "        \n",
    "        "
   ]
  },
  {
   "cell_type": "code",
   "execution_count": 17,
   "metadata": {},
   "outputs": [
    {
     "data": {
      "text/plain": [
       "4"
      ]
     },
     "execution_count": 17,
     "metadata": {},
     "output_type": "execute_result"
    }
   ],
   "source": [
    "u"
   ]
  },
  {
   "cell_type": "code",
   "execution_count": 18,
   "metadata": {},
   "outputs": [
    {
     "data": {
      "text/plain": [
       "33"
      ]
     },
     "execution_count": 18,
     "metadata": {},
     "output_type": "execute_result"
    }
   ],
   "source": [
    "l"
   ]
  },
  {
   "cell_type": "code",
   "execution_count": 11,
   "metadata": {},
   "outputs": [],
   "source": [
    "ll=[]\n",
    "s=[1,1,1,1,12,2,2,2,2,3,3,3,3,3,4,4,4,4,5,5,5,5,55,5]\n",
    "for i in s:\n",
    "    if i not in ll:\n",
    "        ll.append(i)\n",
    "       "
   ]
  },
  {
   "cell_type": "code",
   "execution_count": 12,
   "metadata": {},
   "outputs": [
    {
     "data": {
      "text/plain": [
       "[1, 12, 2, 3, 4, 5, 55]"
      ]
     },
     "execution_count": 12,
     "metadata": {},
     "output_type": "execute_result"
    }
   ],
   "source": [
    "ll"
   ]
  },
  {
   "cell_type": "code",
   "execution_count": 11,
   "metadata": {},
   "outputs": [],
   "source": [
    "def checkqua(quad, inpu):\n",
    "    return quad[inpu]=='   '\n",
    "    "
   ]
  },
  {
   "cell_type": "code",
   "execution_count": 12,
   "metadata": {},
   "outputs": [],
   "source": [
    "thebox ={'e':'   '}\n",
    "grid = [thebox['e'], thebox['e'],thebox['e'],thebox['e'],thebox['e'],thebox['e'],thebox['e'],thebox['e'],thebox['e']]\n",
    "def box(q,xo,quad):# draw the tictactow grid\n",
    "    if checkqua(quad,q):\n",
    "        quad[q]=' '+xo+' '\n",
    "    else:\n",
    "        print('sorry that slot is already taken, try another')\n",
    "        while  not checkqua(quad,q):\n",
    "            q = int(input())\n",
    "        quad[q]=' '+xo+' '\n",
    "        \n",
    "    print(quad[6]+ '|'+quad[7]+ '|'+quad[8])    \n",
    "    print('-----------')\n",
    "    print(quad[3]+ '|'+quad[4]+ '|'+quad[5])\n",
    "    print('-----------')  \n",
    "    print(quad[0]+ '|'+quad[1]+ '|'+quad[2])  \n"
   ]
  },
  {
   "cell_type": "code",
   "execution_count": 13,
   "metadata": {},
   "outputs": [],
   "source": [
    "def wincond(quad): #check if a player won\n",
    "    if quad[0]==quad[1]==quad[2] and quad[0]!='   ':\n",
    "        return True\n",
    "    elif quad[0]==quad[4]==quad[8] and quad[0]!='   ':\n",
    "        return True\n",
    "    elif quad[0]==quad[3]==quad[6] and quad[0]!='   ':\n",
    "        return True\n",
    "    \n",
    "    elif quad[2]==quad[5]==quad[8] and quad[2]!='   ':\n",
    "        return True\n",
    "    elif quad[2]==quad[4]==quad[6] and quad[2]!='   ':\n",
    "        return True    \n",
    "    elif quad[6]==quad[7]==quad[8] and quad[8]!='   ':\n",
    "        return True\n",
    "    \n",
    "    elif quad[3]==quad[4]==quad[5] and quad[3]!='   ':\n",
    "        return True\n",
    "    else:\n",
    "        return False"
   ]
  },
  {
   "cell_type": "code",
   "execution_count": 20,
   "metadata": {},
   "outputs": [],
   "source": [
    "def tictactoe():#game function get user input\n",
    "    thebox ={'e':'   '}\n",
    "    grid = [thebox['e'], thebox['e'],thebox['e'],thebox['e'],thebox['e'],thebox['e'],thebox['e'],thebox['e'],thebox['e']]\n",
    "    while  not wincond(grid):\n",
    "        value1 = int(input('player X select a location \\n'))\n",
    "        if value1>8 or value1<0:\n",
    "            while not value1 in range(0,9):\n",
    "                print('please select a number between 0 and 8 ')\n",
    "                value1 =int(input('player X select a location \\n'))\n",
    "        \n",
    "        box(value1,'x',grid)\n",
    "        \n",
    "        value2 =int(input('player O select a location \\n'))\n",
    "        if value2>8 or value2<0:\n",
    "            while not value2 in range(0,9):\n",
    "                print('please select a number between 0 and 8 ')\n",
    "                value2 =int(input('player X select a location \\n'))\n",
    "\n",
    "        box(value2,'o',grid)\n",
    "    \n",
    "        "
   ]
  },
  {
   "cell_type": "code",
   "execution_count": 21,
   "metadata": {},
   "outputs": [
    {
     "name": "stdout",
     "output_type": "stream",
     "text": [
      "player X select a location \n",
      "0\n",
      "   |   |   \n",
      "-----------\n",
      "   |   |   \n",
      "-----------\n",
      " x |   |   \n",
      "player O select a location \n",
      "7\n",
      "   | o |   \n",
      "-----------\n",
      "   |   |   \n",
      "-----------\n",
      " x |   |   \n",
      "player X select a location \n",
      "8\n",
      "   | o | x \n",
      "-----------\n",
      "   |   |   \n",
      "-----------\n",
      " x |   |   \n",
      "player O select a location \n",
      "9\n",
      "please select a number between 0 and 8 \n",
      "player X select a location \n",
      "100\n",
      "please select a number between 0 and 8 \n",
      "player X select a location \n",
      "7\n",
      "sorry that slot is already taken, try another\n",
      "2\n",
      "   | o | x \n",
      "-----------\n",
      "   |   |   \n",
      "-----------\n",
      " x |   | o \n",
      "player X select a location \n",
      "1\n",
      "   | o | x \n",
      "-----------\n",
      "   |   |   \n",
      "-----------\n",
      " x | x | o \n",
      "player O select a location \n",
      "1\n",
      "sorry that slot is already taken, try another\n",
      "5\n",
      "   | o | x \n",
      "-----------\n",
      "   |   | o \n",
      "-----------\n",
      " x | x | o \n",
      "player X select a location \n",
      "4\n",
      "   | o | x \n",
      "-----------\n",
      "   | x | o \n",
      "-----------\n",
      " x | x | o \n",
      "player O select a location \n",
      "6\n",
      " o | o | x \n",
      "-----------\n",
      "   | x | o \n",
      "-----------\n",
      " x | x | o \n"
     ]
    }
   ],
   "source": [
    "tictactoe()"
   ]
  },
  {
   "cell_type": "code",
   "execution_count": null,
   "metadata": {},
   "outputs": [],
   "source": []
  }
 ],
 "metadata": {
  "kernelspec": {
   "display_name": "Python 3",
   "language": "python",
   "name": "python3"
  },
  "language_info": {
   "codemirror_mode": {
    "name": "ipython",
    "version": 3
   },
   "file_extension": ".py",
   "mimetype": "text/x-python",
   "name": "python",
   "nbconvert_exporter": "python",
   "pygments_lexer": "ipython3",
   "version": "3.7.4"
  }
 },
 "nbformat": 4,
 "nbformat_minor": 2
}
